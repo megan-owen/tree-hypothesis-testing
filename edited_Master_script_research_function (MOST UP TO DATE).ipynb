{
 "cells": [
  {
   "cell_type": "markdown",
   "metadata": {
    "jupyter": {
     "outputs_hidden": true
    }
   },
   "source": [
    "**HYPOTHESIS TESTING PIPELINE**"
   ]
  },
  {
   "cell_type": "code",
   "execution_count": 1,
   "metadata": {
    "tags": []
   },
   "outputs": [
    {
     "name": "stderr",
     "output_type": "stream",
     "text": [
      "WARNING: pip is being invoked by an old script wrapper. This will fail in a future version of pip.\n",
      "Please see https://github.com/pypa/pip/issues/5599 for advice on fixing the underlying issue.\n",
      "To avoid this problem you can invoke Python with '-m pip' instead of running pip directly.\n"
     ]
    },
    {
     "data": {
      "text/html": [
       "<pre style=\"white-space:pre;overflow-x:auto;line-height:normal;font-family:Menlo,'DejaVu Sans Mono',consolas,'Courier New',monospace\">Requirement already satisfied: dendropy in c:\\users\\elian\\anaconda3\\lib\\site-packages (5.0.1)\n",
       "</pre>\n"
      ],
      "text/plain": [
       "Requirement already satisfied: dendropy in c:\\users\\elian\\anaconda3\\lib\\site-packages (5.0.1)\n"
      ]
     },
     "metadata": {},
     "output_type": "display_data"
    },
    {
     "data": {
      "text/html": [
       "<pre style=\"white-space:pre;overflow-x:auto;line-height:normal;font-family:Menlo,'DejaVu Sans Mono',consolas,'Courier New',monospace\">Requirement already satisfied: setuptools in c:\\users\\elian\\anaconda3\\lib\\site-packages (from dendropy) (68.0.0)\n",
       "</pre>\n"
      ],
      "text/plain": [
       "Requirement already satisfied: setuptools in c:\\users\\elian\\anaconda3\\lib\\site-packages (from dendropy) (68.0.0)\n"
      ]
     },
     "metadata": {},
     "output_type": "display_data"
    },
    {
     "data": {
      "text/plain": [
       "0"
      ]
     },
     "execution_count": 1,
     "metadata": {},
     "output_type": "execute_result"
    }
   ],
   "source": [
    "import pip\n",
    "pip.main(['install', 'dendropy'])"
   ]
  },
  {
   "cell_type": "code",
   "execution_count": 5,
   "metadata": {
    "tags": []
   },
   "outputs": [],
   "source": [
    "import pandas as pd\n",
    "import numpy as np\n",
    "from AD_Package import trees_to_one\n",
    "from AD_Package import panda_plus_symmetry as ps\n",
    "import eric_functions as ef\n",
    "import os\n",
    "import platform\n",
    "import crossmatch_functions as cmf\n",
    "\n",
    "\n",
    "#symphy_tree_folder1 : \n",
    "#symphy_tree_folder2 : \n",
    "#number_of_repetitions: \n",
    "#number_of_trees : number of trees in each file (?)\n",
    "\n",
    "def main_script(symphy_tree_folder1,symphy_tree_folder2, number_of_repetitions,number_of_trees):\n",
    "    #------------------------------------------------------------------------------------------------------------------------\n",
    "    # Change these variables)(really just the slashes since this might not work on windows)\n",
    "    system = platform.platform() # what platform are you on\n",
    "    slash =  \"/\"\n",
    "    if system.__contains__(\"Windows\"):\n",
    "        slash =  \"/\"\n",
    "    \n",
    "     \n",
    "    tree_pathName_folder1 = \"TreeTestingData{}{}\".format(slash,symphy_tree_folder1,slash)\n",
    "    tree_pathName_folder2 = \"TreeTestingData{}{}\".format(slash,symphy_tree_folder2,slash)\n",
    "    full_tree_folder_path = \"TreeTestingData{}trees_to_one_out\".format(slash)\n",
    "    \n",
    "    print(tree_pathName_folder1)\n",
    "    \n",
    "    header = \"-------------------------------TESTING FOR Folders: {} VS {} LOADING-------------------------------------\".format(symphy_tree_folder1,symphy_tree_folder2 )\n",
    "   \n",
    "    folder_dir = \"{}\".format(slash)\n",
    "    distance_type = 'weighted_distance'\n",
    "    col_names = ['a1', 'Ea1', 'Va1','dev',\"pval\",\"approxpval\"]\n",
    "\n",
    "\n",
    "    generate_tree_path = folder_dir + \"SimMlTrees304_\"\n",
    "    r_tree2 = \"(Gonyosoma_frenatum:0.00016709345823387125,(Gonyosoma_boulengeri:0.0001352593483205748,(Gonyosoma_prasinum:0.0001484060384921806,(Gonyosoma_oxycephalum:0.00029840061611430187,((Hapsidophrys_lineatus:0.0002279388109971766,Hemorrhois_ravergieri:0.00014262643010240573):0.0002019981516487881,(Nerodia_sipedon:0.00014010052567203936,((Coelegnathus_helena:9.94911915841639e-05,(Coelognathus_radiatus:0.00020636164678921814,(Coelognathus_erythrurus:0.00023812838814190986,(Coelognathus_flavolineatus:0.00013301378204772684,Coelognathis_subradiatus:9.58430137897503e-05):0.0002775763508092348):0.00020336145573815025):0.0001871793735610874):0.00017802936484490454,(((Euprepiophis_mandarinus:0.00014207178030065153,(Euprepiophis_conspicillatus:0.0001620515586755933,Euprepiophis_perlaceus:0.00014126122879252865):0.0002259287623448453):0.0002080937623204843,((Oreocryptophis_porphyraceus:0.00020592701636988118,Archelaphe_bella:0.000107290453233645):0.00038811791274092147,((Elaphe_zoigeensis:0.00011463782694029827,((Orthriophis_moellendorffi:0.00019878282375978458,(Orthriophis_cantoris:0.00023237114048921443,Orthriophis_hodgsoni:0.0002085451139408275):0.00019747942624252852):8.277040744182492e-05,(Orthriophis_taeniurus:0.00011291944987485439,(Elaphe_quatuorlineata:0.00012163254611438352,((Elaphe_climacophora:0.0002814097353607031,(Elaphe_anomala:0.0001143729158869478,Elaphe_schrenckii:0.0002746811946230307):0.0001813733598026775):0.00023287377497532968,((Elaphe_bimaculata:0.00013318334321119895,Elaphe_dione:0.00028829842284573833):0.00025284185596994126,(Elaphe_davidi:0.0001872799025191012,(Elaphe_quadrivirgata:0.00022165323948825956,Elaphe_carinata:0.00014009198834251635):0.00014421234884787456):0.0002211450073109886):0.0002726836600716798):0.000363919996536562):0.00010331756054011526):9.35383365811014e-05):0.00012821620460451346):0.000121666705452556,(((Oocatochus_rufodorsatus:0.0002747680613845826,(Coronella_austriaca:0.0002294982221147942,Coronella_girondica:0.00011910608979643397):0.00020962560388212734):0.00012210955112446225,(Zamenis_hohenackeri:0.00021583886386209914,(Rhinechis_scalaris:0.00019975265521595683,(Zamenis_persicus:0.00027818993115484423,(Zamenis_situla:0.0001962392122976544,(Zamenis_longissimus:9.707268276134054e-05,Zamenis_lineatus:0.00018171671324664315):0.00019265523503594862):0.00024137402126686916):0.00020598642693125968):0.00016464827899441978):0.0002596668814780901):0.00014565617198129311,(Senticolis_triaspis:0.000183032421114866,((Pseudelaphe_flavirufa:8.76155280571277e-05,(Bogertophis_rosaliae:0.0001749595764255417,Bogertophis_subocularis:0.00020687020307686327):0.00012610465465207776):0.00021000668473416837,((((Pituophis_deppei:0.00023809839679068205,Pituophis_lineaticollis:0.00017752509750829128):6.991244027259497e-05,((Pituophis_vertebralis:9.63824133371477e-05,Pituophis_catenifer:0.00023800673640256054):0.00020968747189442145,(Pituophis_ruthveni:0.00020387796936408478,Pituophis_melanoleucus:0.00013835146535166775):0.0001207034575909236):0.00020382887538695227):0.0002373808444666213,((Pantherophis_guttatus:0.00033095230400511825,(Pantherophis_emoryi:0.00019477923193029895,Pantherophis_slowinskii:0.00019439792481519013):0.00032242293030238574):0.0002316159837400963,(Pantherophis_ramspotti:0.00025964733488268853,(Pantherophis_spiloides:0.00024208536079568704,(Pantherophis_obsoletus:9.19267262764644e-05,Pantherophis_bairdi:0.00022579973499859568):0.00020243352492125226):0.0003541109493367164):0.00017894550504262755):0.000252015961908349):0.00020899002937093693,(Arizona_elegans:0.0001607933722083523,(Rhinocheilus_lecontei:0.0002507031287068399,(Cemophora_coccinea:0.00019982253770263142,(((Lampropeltis_extenuata:0.00016728132917143292,(Lampropeltis_rhombomaculata:0.0002064492658254164,Lampropeltis_calligaster:0.00021819398486458335):0.00022453640826815318):0.00013819732200818626,(Lampropeltis_getula:0.00018357566216514672,(Lampropeltis_nigra:0.00018160151808268248,(Lampropeltis_holbrooki:0.00023090731126665742,(Lampropeltis_californiae:0.00021848736320320401,Lampropeltis_splendida:0.0002119783410452386):0.00019179281137167065):0.0001194137510606942):0.00016863043993242894):0.0002137271196253215):0.0002083464058616576,((Lampropeltis_elapsoides:0.00029078252477833137,(Lampropeltis_annulata:0.00021331592646987258,Lampropeltis_gentilis:0.00013500948600549207):0.0001860077363069921):0.0002632480395204761,((Lampropeltis_polyzona:0.0001292197907848558,(Lampropeltis_abnorma:0.00019160851942519943,Lampropeltis_micropholis:0.00012144229485021954):0.00028938502057492004):0.00026258927570018515,((Lampropeltis_webbi:0.00029260184395871647,(Lampropeltis_mexicana:0.00028944580082178556,Lampropeltis_ruthveni:9.946379859807918e-05):0.00021100599205720825):0.00014887208724998296,(Lampropeltis_alterna:0.00012576198881003432,((Lampropeltis_zonata:0.0001583501071690814,Lampropeltis_multifasciata:0.00021409753750141434):0.00016453524449240928,(Lampropeltis_knoblochi:0.0002954776553769234,Lampropeltis_pyromelana:7.934758443870134e-05):0.00020962727374904008):0.00020924478541370996):0.00031542732597001494):0.0002506532038133842):0.00018880736614822799):0.000239268953063874):0.00010379152912796926):0.00013636561795731257):0.00014267386503580732):0.00010602226665807981):0.0001222639769576057):0.00013320678256334857):0.00010194942015505504):0.0001966385627180895):0.00012400755970604424):0.00014577628683738427):0.0001793948765069604,(Ptyas_mucosa:0.0002327052323615252,((Coluber_constrictor:5.0591129051981765e-05,(Gyalopion_canum:0.00020669082647665265,Tantilla_coronata:0.000180326404435288):0.00016417347071117754):0.00024842025789677106,Drymobius_margaritiferus:8.721133668046602e-05):0.00030253716466275215):0.0004689982008216632):0.00023021436691829952):0.00024476698087054835):0.00024984283783707685):0.00017745965006261678):0.00016255467184536117):0.00019213678043572042));\"\n",
    "\n",
    "# ---------------------------------------------------------------------------------------------------------------------\n",
    "\n",
    "    #files location\n",
    "    \n",
    "    file_num_1 = folder_dir + \"PracticeCAT.txt\"\n",
    "    file_num_2 = folder_dir + \"PracticeBAL.txt\"\n",
    "    \n",
    "    print(file_num_1)\n",
    "\n",
    "    #folder_trees_1 = folder_dir + tree_pathName_folder1\n",
    "   # folder_trees_2 = folder_dir + tree_pathName_folder2\n",
    "    #full_tree_folder = folder_dir + full_tree_folder_path\n",
    "    \n",
    "    folder_trees_1 =  tree_pathName_folder1\n",
    "    folder_trees_2 =  tree_pathName_folder2\n",
    "    full_tree_folder =  full_tree_folder_path\n",
    "\n",
    "    merged_file_output =  \"Merged_trees\"\n",
    "    symMat_output_dir =  \"SymmetricMatrix_\"\n",
    "\n",
    "    cross_data = pd.DataFrame(0, index= range(0,number_of_repetitions), columns = col_names)\n",
    "\n",
    "\n",
    "    # symMat = pd.read_csv(\"./symmetricMatrix.csv\", index_col=0,header = 0)\n",
    "    # symMat2 = symMat.to_numpy()\n",
    "    # symMat2\n",
    "    # ---------------------------------------------------------------------------------------------------------------------\n",
    "\n",
    "    for h in range(0,number_of_repetitions):\n",
    "       \n",
    "\n",
    "     #PIPELINE CODE 6/14/2022\n",
    "\n",
    "        print(header)\n",
    "    # Merge Trees into one folder from symphy\n",
    "\n",
    "    #    if not os.path.exists(file_num_1 + '{}.txt'.format((symphy_tree_folder1))) or not os.path.exists(file_num_1 + '{}.txt'.format((symphy_tree_folder1))):\n",
    "    #        print(\"Merging Tree Files for run: \", h)\n",
    "\n",
    "    #        trees_to_one.trees_to_one(folder_trees_1,folder_trees_2,number_of_trees,(file_num_1 + '{}.txt'.format((symphy_tree_folder1))),(file_num_2 + '{}.txt'.format((symphy_tree_folder1))))\n",
    "    #    else:\n",
    "     #       print(\"Merging ---Tree Files--- skipped for run: \", h)\n",
    "\n",
    "\n",
    "        #merging files\n",
    "\n",
    "        if not os.path.exists(folder_dir+ merged_file_output + '{}.txt'.format(h+1)):\n",
    "            print(\"Merging Files for run: \", h)\n",
    "            merged_file = ef.merge_files((tree_pathName_folder1 + file_num_1),(tree_pathName_folder2 + file_num_2),merged_file_output,(h+1))\n",
    "        else: \n",
    "            print(\"Merging Files skipped for run: \", h)\n",
    "            t_data = open(folder_dir+ merged_file_output + '{}.txt'.format(h+1))\n",
    "            merged_file =  str(t_data.read())\n",
    "\n",
    "        print(merged_file)    \n",
    "\n",
    "\n",
    "        #generate comparison files\n",
    "        if not os.path.exists(folder_dir+ 'Sim_Trees_distances_comparisons_{}.csv'.format(h+1)):\n",
    "            print(\"generating comparison file for run: \", h)\n",
    "            print(\"++++*********************************************\")\n",
    "            print(distance_type)    \n",
    "            comparison_df = ef.generate_comparison_files_simphy(merged_file,(h+1),distance_type)\n",
    "            print(comparison_df)\n",
    "        else:\n",
    "            print(\"generating comparison file skipped for run: \", h)\n",
    "            comparison_df = pd.read_csv(folder_dir+ 'Sim_Trees_distances_comparisons_{}.csv'.format(h+1))\n",
    "            print(comparison_df)\n",
    "#\n",
    "            \n",
    "        #Aliyah Symetric matrix function\n",
    "        symMat_output_path = symMat_output_dir + \"{}.csv\".format((h+1))\n",
    "        if not os.path.exists(symMat_output_path):\n",
    "            print(\"Comparison DF\")\n",
    "            print(comparison_df)\n",
    "            print(\"generating symetric matrix for run: \", h)\n",
    "            ps.panda_plus_symmetry_generate(comparison_df, number_of_trees,symMat_output_path)\n",
    "            sym_mat = pd.read_csv(symMat_output_path,index_col=0,header = 0)\n",
    "        else:\n",
    "            print(\"generating symetrix matrix skipped for run: \", h)\n",
    "            sym_mat = pd.read_csv(symMat_output_path,index_col=0,header = 0)\n",
    "        sym_mat2 = sym_mat.to_numpy()\n",
    "\n",
    "    #     print(sym_mat2[34][35])\n",
    "    #     print(sym_mat2[35][34])\n",
    "    #     print(sym_mat2)\n",
    "\n",
    "        print(\"calculating crossmatch for run: \", h)\n",
    "        print(\"-----------------------------------------------------------------------------------------------\\n\")\n",
    "        \n",
    "\n",
    "#CROSSMATCH TEST\n",
    "    vec = (np.repeat([0], len(sym_mat2)/2)).tolist() + (np.repeat([1], len(sym_mat2)/2)).tolist()\n",
    "    \n",
    "    print(cmf.crossmatchtest(vec,sym_mat2))\n",
    "    \n",
    "    print(\"\\n\")\n",
    "    "
   ]
  },
  {
   "cell_type": "code",
   "execution_count": 7,
   "metadata": {
    "tags": []
   },
   "outputs": [
    {
     "name": "stdout",
     "output_type": "stream",
     "text": [
      "TreeTestingData/testing3\n",
      "/PracticeCAT.txt\n",
      "-------------------------------TESTING FOR Folders: testing3 VS testing4 LOADING-------------------------------------\n",
      "Merging Files for run:  0\n",
      "[&R] (D_1:35247.28159736314,(C_1:34760.34932386593,(A_1:15016.213566906954,B_1:15016.213566906954):19744.135756958975):486.9322734972113):0.0;\n",
      "[&R] (D_1:38676.822313472716,(C_1:29913.055961599744,(B_1:16523.369243582238,A_1:16523.369243582238):13389.686718017507):8763.76635187297):0.0;\n",
      "[&R] (((B_1:10070.35614950956,A_1:10070.35614950956):15717.43533771791,C_1:25787.79148722747):5566.136847764554,D_1:31353.928334992022):0.0;\n",
      "[&R] (((A_1:11171.181602688368,B_1:11171.181602688368):13698.080454856496,C_1:24869.262057544864):22046.68914812375,D_1:46915.951205668614):0.0;\n",
      "[&R] (((A_1:12769.979917488781,B_1:12769.979917488781):24243.463951189915,D_1:37013.443868678696):6513.736029598519,C_1:43527.179898277216):0.0;\n",
      "[&R] (D_1:62986.70047458309,(C_1:37240.19831243886,(A_1:12281.936398300717,B_1:12281.936398300717):24958.26191413814):25746.502162144232):0.0;\n",
      "[&R] (((B_1:15635.776212122446,A_1:15635.776212122446):19531.5878784654,D_1:35167.36409058785):3113.396249064775,C_1:38280.760339652625):0.0;\n",
      "[&R] ((D_1:31925.91792437005,(A_1:21305.74409984605,C_1:21305.74409984605):10620.173824523996):8125.958344337064,B_1:40051.876268707114):0.0;\n",
      "[&R] ((B_1:29544.50139502796,(A_1:20394.63342274751,C_1:20394.63342274751):9149.867972280454):832.9862214552028,D_1:30377.487616483166):0.0;\n",
      "[&R] (((B_1:20989.289191041404,C_1:20989.289191041404):8386.137108528026,A_1:29375.42629956943):18653.140628960267,D_1:48028.56692852969):0.0;\n",
      "[&R] ((A_1:19249.249275522277,B_1:19249.249275522277):42456.2970852656,(C_1:31920.69021155398,D_1:31920.69021155398):29784.8561492339):0.0;\n",
      "[&R] (D_1:48423.3409253543,(A_1:22315.939969530908,(C_1:22003.52193289298,B_1:22003.52193289298):312.41803663792683):26107.400955823392):0.0;\n",
      "[&R] (D_1:41264.529807761006,(C_1:24353.750278590436,(B_1:12546.879533003008,A_1:12546.879533003008):11806.870745587428):16910.779529170573):0.0;\n",
      "[&R] (D_1:42489.09158716049,((B_1:10861.101973298819,A_1:10861.101973298819):10261.523268557354,C_1:21122.625241856174):21366.466345304318):0.0;\n",
      "[&R] (D_1:40911.7026090762,(B_1:22959.59680900244,(C_1:20021.1231744548,A_1:20021.1231744548):2938.4736345476404):17952.105800073758):0.0;\n",
      "[&R] ((C_1:13348.003843815888,D_1:13348.003843815888):17071.168303111113,(A_1:21726.292547061803,B_1:21726.292547061803):8692.879599865197):0.0;\n",
      "[&R] ((A_1:10205.962019693072,B_1:10205.962019693072):15116.924227727224,(C_1:18380.85946464452,D_1:18380.85946464452):6942.026782775776):0.0;\n",
      "[&R] ((C_1:12115.77411893905,D_1:12115.77411893905):48737.31153524024,(B_1:13183.473318260525,A_1:13183.473318260525):47669.61233591876):0.0;\n",
      "[&R] ((C_1:17039.063854976626,D_1:17039.063854976626):13818.395325917616,(B_1:13729.906525666003,A_1:13729.906525666003):17127.55265522824):0.0;\n",
      "[&R] ((C_1:23995.905021280723,(B_1:11737.565535839907,A_1:11737.565535839907):12258.339485440814):9829.029602010665,D_1:33824.93462329139):0.0;\n",
      "[&R] (C_1:37734.63446228558,((D_1:20340.573513055457,B_1:20340.573513055457):459.42124554849687,A_1:20799.994758603953):16934.639703681634):0.0;\n",
      "[&R] ((C_1:16591.21393043702,D_1:16591.21393043702):22081.822127355386,(A_1:14001.89749899998,B_1:14001.89749899998):24671.138558792427):0.0;\n",
      "[&R] ((C_1:11905.268055804407,D_1:11905.268055804407):28139.23624126616,(B_1:12571.132884748358,A_1:12571.132884748358):27473.37141232221):0.0;\n",
      "[&R] ((B_1:21046.706856181107,(D_1:20291.516888848982,C_1:20291.516888848982):755.1899673321241):88.71511524968052,A_1:21135.421971430787):0.0;\n",
      "[&R] ((A_1:22803.968900363976,(D_1:16604.240088222443,C_1:16604.240088222443):6199.728812141533):17322.08473901677,B_1:40126.05363938074):0.0;\n",
      "[&R] ((B_1:20544.388176213062,(D_1:12401.436162185437,C_1:12401.436162185437):8142.952014027625):4279.504208953807,A_1:24823.89238516687):0.0;\n",
      "[&R] ((C_1:36010.247757692225,(B_1:15629.57408188915,A_1:15629.57408188915):20380.673675803075):1693.7609957667241,D_1:37704.00875345895):0.0;\n",
      "[&R] ((B_1:24379.119706622354,A_1:24379.119706622354):988.7300110937366,(D_1:15825.302530165425,C_1:15825.302530165425):9542.547187550665):0.0;\n",
      "[&R] ((C_1:23622.73350530266,(B_1:16366.867640769799,A_1:16366.867640769799):7255.865864532865):94.38684515696605,D_1:23717.120350459627):0.0;\n",
      "[&R] (((A_1:10659.239560018937,B_1:10659.239560018937):14064.23514663216,D_1:24723.474706651097):1268.2932735055347,C_1:25991.767980156634):0.0;\n",
      "generating comparison file for run:  0\n",
      "++++*********************************************\n",
      "weighted_distance\n",
      "*********************************************\n",
      "['[&R] (D_1:35247.28159736314,(C_1:34760.34932386593,(A_1:15016.213566906954,B_1:15016.213566906954):19744.135756958975):486.9322734972113):0.0;', '[&R] (D_1:38676.822313472716,(C_1:29913.055961599744,(B_1:16523.369243582238,A_1:16523.369243582238):13389.686718017507):8763.76635187297):0.0;', '[&R] (((B_1:10070.35614950956,A_1:10070.35614950956):15717.43533771791,C_1:25787.79148722747):5566.136847764554,D_1:31353.928334992022):0.0;', '[&R] (((A_1:11171.181602688368,B_1:11171.181602688368):13698.080454856496,C_1:24869.262057544864):22046.68914812375,D_1:46915.951205668614):0.0;', '[&R] (((A_1:12769.979917488781,B_1:12769.979917488781):24243.463951189915,D_1:37013.443868678696):6513.736029598519,C_1:43527.179898277216):0.0;', '[&R] (D_1:62986.70047458309,(C_1:37240.19831243886,(A_1:12281.936398300717,B_1:12281.936398300717):24958.26191413814):25746.502162144232):0.0;', '[&R] (((B_1:15635.776212122446,A_1:15635.776212122446):19531.5878784654,D_1:35167.36409058785):3113.396249064775,C_1:38280.760339652625):0.0;', '[&R] ((D_1:31925.91792437005,(A_1:21305.74409984605,C_1:21305.74409984605):10620.173824523996):8125.958344337064,B_1:40051.876268707114):0.0;', '[&R] ((B_1:29544.50139502796,(A_1:20394.63342274751,C_1:20394.63342274751):9149.867972280454):832.9862214552028,D_1:30377.487616483166):0.0;', '[&R] (((B_1:20989.289191041404,C_1:20989.289191041404):8386.137108528026,A_1:29375.42629956943):18653.140628960267,D_1:48028.56692852969):0.0;', '[&R] ((A_1:19249.249275522277,B_1:19249.249275522277):42456.2970852656,(C_1:31920.69021155398,D_1:31920.69021155398):29784.8561492339):0.0;', '[&R] (D_1:48423.3409253543,(A_1:22315.939969530908,(C_1:22003.52193289298,B_1:22003.52193289298):312.41803663792683):26107.400955823392):0.0;', '[&R] (D_1:41264.529807761006,(C_1:24353.750278590436,(B_1:12546.879533003008,A_1:12546.879533003008):11806.870745587428):16910.779529170573):0.0;', '[&R] (D_1:42489.09158716049,((B_1:10861.101973298819,A_1:10861.101973298819):10261.523268557354,C_1:21122.625241856174):21366.466345304318):0.0;', '[&R] (D_1:40911.7026090762,(B_1:22959.59680900244,(C_1:20021.1231744548,A_1:20021.1231744548):2938.4736345476404):17952.105800073758):0.0;', '[&R] ((C_1:13348.003843815888,D_1:13348.003843815888):17071.168303111113,(A_1:21726.292547061803,B_1:21726.292547061803):8692.879599865197):0.0;', '[&R] ((A_1:10205.962019693072,B_1:10205.962019693072):15116.924227727224,(C_1:18380.85946464452,D_1:18380.85946464452):6942.026782775776):0.0;', '[&R] ((C_1:12115.77411893905,D_1:12115.77411893905):48737.31153524024,(B_1:13183.473318260525,A_1:13183.473318260525):47669.61233591876):0.0;', '[&R] ((C_1:17039.063854976626,D_1:17039.063854976626):13818.395325917616,(B_1:13729.906525666003,A_1:13729.906525666003):17127.55265522824):0.0;', '[&R] ((C_1:23995.905021280723,(B_1:11737.565535839907,A_1:11737.565535839907):12258.339485440814):9829.029602010665,D_1:33824.93462329139):0.0;', '[&R] (C_1:37734.63446228558,((D_1:20340.573513055457,B_1:20340.573513055457):459.42124554849687,A_1:20799.994758603953):16934.639703681634):0.0;', '[&R] ((C_1:16591.21393043702,D_1:16591.21393043702):22081.822127355386,(A_1:14001.89749899998,B_1:14001.89749899998):24671.138558792427):0.0;', '[&R] ((C_1:11905.268055804407,D_1:11905.268055804407):28139.23624126616,(B_1:12571.132884748358,A_1:12571.132884748358):27473.37141232221):0.0;', '[&R] ((B_1:21046.706856181107,(D_1:20291.516888848982,C_1:20291.516888848982):755.1899673321241):88.71511524968052,A_1:21135.421971430787):0.0;', '[&R] ((A_1:22803.968900363976,(D_1:16604.240088222443,C_1:16604.240088222443):6199.728812141533):17322.08473901677,B_1:40126.05363938074):0.0;', '[&R] ((B_1:20544.388176213062,(D_1:12401.436162185437,C_1:12401.436162185437):8142.952014027625):4279.504208953807,A_1:24823.89238516687):0.0;', '[&R] ((C_1:36010.247757692225,(B_1:15629.57408188915,A_1:15629.57408188915):20380.673675803075):1693.7609957667241,D_1:37704.00875345895):0.0;', '[&R] ((B_1:24379.119706622354,A_1:24379.119706622354):988.7300110937366,(D_1:15825.302530165425,C_1:15825.302530165425):9542.547187550665):0.0;', '[&R] ((C_1:23622.73350530266,(B_1:16366.867640769799,A_1:16366.867640769799):7255.865864532865):94.38684515696605,D_1:23717.120350459627):0.0;', '[&R] (((A_1:10659.239560018937,B_1:10659.239560018937):14064.23514663216,D_1:24723.474706651097):1268.2932735055347,C_1:25991.767980156634):0.0;']\n",
      "    Tree_comparison Num_First_tree Num_Second_tree  weighted_distance\n",
      "0              1vs2              1               2       25922.428549\n",
      "1              1vs3              1               3       31863.530927\n",
      "2              1vs4              1               4       56855.632980\n",
      "3              1vs5              1               5       26525.456642\n",
      "4              1vs6              1               6       66161.518249\n",
      "..              ...            ...             ...                ...\n",
      "430          27vs29             27              29       42573.171735\n",
      "431          27vs30             27              30       42218.175667\n",
      "432          28vs29             28              29       47617.822813\n",
      "433          28vs30             28              30       70390.743516\n",
      "434          29vs30             29              30       22961.694393\n",
      "\n",
      "[435 rows x 4 columns]\n",
      "generating symetrix matrix skipped for run:  0\n",
      "calculating crossmatch for run:  0\n",
      "-----------------------------------------------------------------------------------------------\n",
      "\n",
      "total min weigth is:  230628.5955911244\n"
     ]
    },
    {
     "ename": "TypeError",
     "evalue": "'float' object cannot be interpreted as an integer",
     "output_type": "error",
     "traceback": [
      "\u001b[1;31m---------------------------------------------------------------------------\u001b[0m",
      "\u001b[1;31mTypeError\u001b[0m                                 Traceback (most recent call last)",
      "Cell \u001b[1;32mIn[7], line 2\u001b[0m\n\u001b[0;32m      1\u001b[0m \u001b[38;5;66;03m#Example Cases\u001b[39;00m\n\u001b[1;32m----> 2\u001b[0m main_script(\u001b[38;5;124m\"\u001b[39m\u001b[38;5;124mtesting3\u001b[39m\u001b[38;5;124m\"\u001b[39m,\u001b[38;5;124m\"\u001b[39m\u001b[38;5;124mtesting4\u001b[39m\u001b[38;5;124m\"\u001b[39m,\u001b[38;5;241m1\u001b[39m,\u001b[38;5;241m30\u001b[39m)\n",
      "Cell \u001b[1;32mIn[5], line 135\u001b[0m, in \u001b[0;36mmain_script\u001b[1;34m(symphy_tree_folder1, symphy_tree_folder2, number_of_repetitions, number_of_trees)\u001b[0m\n\u001b[0;32m    132\u001b[0m \u001b[38;5;66;03m#CROSSMATCH TEST\u001b[39;00m\n\u001b[0;32m    133\u001b[0m     vec \u001b[38;5;241m=\u001b[39m (np\u001b[38;5;241m.\u001b[39mrepeat([\u001b[38;5;241m0\u001b[39m], \u001b[38;5;28mlen\u001b[39m(sym_mat2)\u001b[38;5;241m/\u001b[39m\u001b[38;5;241m2\u001b[39m))\u001b[38;5;241m.\u001b[39mtolist() \u001b[38;5;241m+\u001b[39m (np\u001b[38;5;241m.\u001b[39mrepeat([\u001b[38;5;241m1\u001b[39m], \u001b[38;5;28mlen\u001b[39m(sym_mat2)\u001b[38;5;241m/\u001b[39m\u001b[38;5;241m2\u001b[39m))\u001b[38;5;241m.\u001b[39mtolist()\n\u001b[1;32m--> 135\u001b[0m     \u001b[38;5;28mprint\u001b[39m(cmf\u001b[38;5;241m.\u001b[39mcrossmatchtest(vec,sym_mat2))\n\u001b[0;32m    137\u001b[0m     \u001b[38;5;28mprint\u001b[39m(\u001b[38;5;124m\"\u001b[39m\u001b[38;5;130;01m\\n\u001b[39;00m\u001b[38;5;124m\"\u001b[39m)\n",
      "File \u001b[1;32m~\\Downloads\\tree-hypothesis-testing-main\\crossmatch_functions.py:120\u001b[0m, in \u001b[0;36mcrossmatchtest\u001b[1;34m(z, D)\u001b[0m\n\u001b[0;32m    118\u001b[0m \n\u001b[0;32m    119\u001b[0m if(bigN < 340):        \n\u001b[1;32m--> 120\u001b[0m         dist = int(crossmatchdist(bigN,n))\n\u001b[0;32m    121\u001b[0m         pval = None\n\u001b[0;32m    122\u001b[0m         for j in range(len(dist[1])):\n",
      "File \u001b[1;32m~\\Downloads\\tree-hypothesis-testing-main\\crossmatch_functions.py:24\u001b[0m, in \u001b[0;36mcrossmatchdist\u001b[1;34m(bigN, n)\u001b[0m\n\u001b[0;32m     22\u001b[0m if (a0>=0):\n\u001b[0;32m     23\u001b[0m         pr = int(math.factorial(I)/choose(bigN,n)\n\u001b[1;32m---> 24\u001b[0m         pr = int(pr*(2**a1))/(math.factorial(a0)*math.factorial(a1)*math.factorial(a2))\n\u001b[0;32m     25\u001b[0m \n\u001b[0;32m     26\u001b[0m         list1 = [[a0],[a1],[a2],[pr]]\n",
      "\u001b[1;31mTypeError\u001b[0m: 'float' object cannot be interpreted as an integer"
     ]
    }
   ],
   "source": [
    "#Example Cases\n",
    "main_script(\"testing3\",\"testing4\",1,30)\n",
    "#main_script(\"testing4\",\"testing5\",1,100)\n",
    "#main_script(\"testing5\",\"testing3\",2,100)\n",
    "#main_script(\"testing3\",\"testing3\",2,100)"
   ]
  },
  {
   "cell_type": "code",
   "execution_count": null,
   "metadata": {},
   "outputs": [],
   "source": []
  },
  {
   "cell_type": "code",
   "execution_count": null,
   "metadata": {},
   "outputs": [],
   "source": []
  }
 ],
 "metadata": {
  "kernelspec": {
   "display_name": "Python 3 (ipykernel)",
   "language": "python",
   "name": "python3"
  },
  "language_info": {
   "codemirror_mode": {
    "name": "ipython",
    "version": 3
   },
   "file_extension": ".py",
   "mimetype": "text/x-python",
   "name": "python",
   "nbconvert_exporter": "python",
   "pygments_lexer": "ipython3",
   "version": "3.11.5"
  }
 },
 "nbformat": 4,
 "nbformat_minor": 4
}
