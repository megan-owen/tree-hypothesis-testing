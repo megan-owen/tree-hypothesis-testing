{
 "cells": [
  {
   "cell_type": "code",
   "execution_count": 34,
   "metadata": {
    "collapsed": true,
    "jupyter": {
     "outputs_hidden": true,
     "source_hidden": true
    }
   },
   "outputs": [
    {
     "name": "stderr",
     "output_type": "stream",
     "text": [
      "C:\\Users\\Eric Aragundi\\anaconda\\lib\\site-packages\\ipykernel_launcher.py:4: DeprecationWarning: This function is deprecated. Please call randint(1, 150 + 1) instead\n",
      "  after removing the cwd from sys.path.\n"
     ]
    },
    {
     "data": {
      "text/plain": [
       "array([[  0. ,  19.5, 140. , ..., 101.5,  44. ,  72. ],\n",
       "       [ 19.5,   0. ,  78.5, ...,  50.5,  71.5,  75.5],\n",
       "       [140. ,  78.5,   0. , ...,  62.5,  62.5,  24. ],\n",
       "       ...,\n",
       "       [101.5,  50.5,  62.5, ...,   0. , 106. ,  86.5],\n",
       "       [ 44. ,  71.5,  62.5, ..., 106. ,   0. ,  56.5],\n",
       "       [ 72. ,  75.5,  24. , ...,  86.5,  56.5,   0. ]])"
      ]
     },
     "execution_count": 34,
     "metadata": {},
     "output_type": "execute_result"
    }
   ],
   "source": [
    "import numpy as np\n",
    "\n",
    "N = 50\n",
    "b = np.random.random_integers(1,150,size=(N,N))\n",
    "b_symm = (b + b.T)/2\n",
    "for i in range(0,N,1):\n",
    "    for j in range(0,N,1):\n",
    "        if(i == j):\n",
    "            b_symm[i][j] = 0\n",
    "b_symm"
   ]
  },
  {
   "cell_type": "code",
   "execution_count": 3,
   "metadata": {},
   "outputs": [],
   "source": [
    "import rpy2.robjects as robjects\n",
    "import pandas as pd\n",
    "import rpy2.robjects.numpy2ri\n",
    "import numpy as np\n",
    "import panda_plus_symmetry as ps\n",
    "import eric_functions as ef\n",
    "import os\n",
    "\n",
    "rpy2.robjects.numpy2ri.activate()\n",
    "\n",
    "\n",
    "folder_dir = \"./\"\n",
    "\n",
    "generate_tree_path = folder_dir + \"SimMlTrees304_\"\n",
    "symMat_output_dir = folder_dir + \"SymmetricMatrix_\"\n",
    "r_tree2 = \"(Gonyosoma_frenatum:0.00016709345823387125,(Gonyosoma_boulengeri:0.0001352593483205748,(Gonyosoma_prasinum:0.0001484060384921806,(Gonyosoma_oxycephalum:0.00029840061611430187,((Hapsidophrys_lineatus:0.0002279388109971766,Hemorrhois_ravergieri:0.00014262643010240573):0.0002019981516487881,(Nerodia_sipedon:0.00014010052567203936,((Coelegnathus_helena:9.94911915841639e-05,(Coelognathus_radiatus:0.00020636164678921814,(Coelognathus_erythrurus:0.00023812838814190986,(Coelognathus_flavolineatus:0.00013301378204772684,Coelognathis_subradiatus:9.58430137897503e-05):0.0002775763508092348):0.00020336145573815025):0.0001871793735610874):0.00017802936484490454,(((Euprepiophis_mandarinus:0.00014207178030065153,(Euprepiophis_conspicillatus:0.0001620515586755933,Euprepiophis_perlaceus:0.00014126122879252865):0.0002259287623448453):0.0002080937623204843,((Oreocryptophis_porphyraceus:0.00020592701636988118,Archelaphe_bella:0.000107290453233645):0.00038811791274092147,((Elaphe_zoigeensis:0.00011463782694029827,((Orthriophis_moellendorffi:0.00019878282375978458,(Orthriophis_cantoris:0.00023237114048921443,Orthriophis_hodgsoni:0.0002085451139408275):0.00019747942624252852):8.277040744182492e-05,(Orthriophis_taeniurus:0.00011291944987485439,(Elaphe_quatuorlineata:0.00012163254611438352,((Elaphe_climacophora:0.0002814097353607031,(Elaphe_anomala:0.0001143729158869478,Elaphe_schrenckii:0.0002746811946230307):0.0001813733598026775):0.00023287377497532968,((Elaphe_bimaculata:0.00013318334321119895,Elaphe_dione:0.00028829842284573833):0.00025284185596994126,(Elaphe_davidi:0.0001872799025191012,(Elaphe_quadrivirgata:0.00022165323948825956,Elaphe_carinata:0.00014009198834251635):0.00014421234884787456):0.0002211450073109886):0.0002726836600716798):0.000363919996536562):0.00010331756054011526):9.35383365811014e-05):0.00012821620460451346):0.000121666705452556,(((Oocatochus_rufodorsatus:0.0002747680613845826,(Coronella_austriaca:0.0002294982221147942,Coronella_girondica:0.00011910608979643397):0.00020962560388212734):0.00012210955112446225,(Zamenis_hohenackeri:0.00021583886386209914,(Rhinechis_scalaris:0.00019975265521595683,(Zamenis_persicus:0.00027818993115484423,(Zamenis_situla:0.0001962392122976544,(Zamenis_longissimus:9.707268276134054e-05,Zamenis_lineatus:0.00018171671324664315):0.00019265523503594862):0.00024137402126686916):0.00020598642693125968):0.00016464827899441978):0.0002596668814780901):0.00014565617198129311,(Senticolis_triaspis:0.000183032421114866,((Pseudelaphe_flavirufa:8.76155280571277e-05,(Bogertophis_rosaliae:0.0001749595764255417,Bogertophis_subocularis:0.00020687020307686327):0.00012610465465207776):0.00021000668473416837,((((Pituophis_deppei:0.00023809839679068205,Pituophis_lineaticollis:0.00017752509750829128):6.991244027259497e-05,((Pituophis_vertebralis:9.63824133371477e-05,Pituophis_catenifer:0.00023800673640256054):0.00020968747189442145,(Pituophis_ruthveni:0.00020387796936408478,Pituophis_melanoleucus:0.00013835146535166775):0.0001207034575909236):0.00020382887538695227):0.0002373808444666213,((Pantherophis_guttatus:0.00033095230400511825,(Pantherophis_emoryi:0.00019477923193029895,Pantherophis_slowinskii:0.00019439792481519013):0.00032242293030238574):0.0002316159837400963,(Pantherophis_ramspotti:0.00025964733488268853,(Pantherophis_spiloides:0.00024208536079568704,(Pantherophis_obsoletus:9.19267262764644e-05,Pantherophis_bairdi:0.00022579973499859568):0.00020243352492125226):0.0003541109493367164):0.00017894550504262755):0.000252015961908349):0.00020899002937093693,(Arizona_elegans:0.0001607933722083523,(Rhinocheilus_lecontei:0.0002507031287068399,(Cemophora_coccinea:0.00019982253770263142,(((Lampropeltis_extenuata:0.00016728132917143292,(Lampropeltis_rhombomaculata:0.0002064492658254164,Lampropeltis_calligaster:0.00021819398486458335):0.00022453640826815318):0.00013819732200818626,(Lampropeltis_getula:0.00018357566216514672,(Lampropeltis_nigra:0.00018160151808268248,(Lampropeltis_holbrooki:0.00023090731126665742,(Lampropeltis_californiae:0.00021848736320320401,Lampropeltis_splendida:0.0002119783410452386):0.00019179281137167065):0.0001194137510606942):0.00016863043993242894):0.0002137271196253215):0.0002083464058616576,((Lampropeltis_elapsoides:0.00029078252477833137,(Lampropeltis_annulata:0.00021331592646987258,Lampropeltis_gentilis:0.00013500948600549207):0.0001860077363069921):0.0002632480395204761,((Lampropeltis_polyzona:0.0001292197907848558,(Lampropeltis_abnorma:0.00019160851942519943,Lampropeltis_micropholis:0.00012144229485021954):0.00028938502057492004):0.00026258927570018515,((Lampropeltis_webbi:0.00029260184395871647,(Lampropeltis_mexicana:0.00028944580082178556,Lampropeltis_ruthveni:9.946379859807918e-05):0.00021100599205720825):0.00014887208724998296,(Lampropeltis_alterna:0.00012576198881003432,((Lampropeltis_zonata:0.0001583501071690814,Lampropeltis_multifasciata:0.00021409753750141434):0.00016453524449240928,(Lampropeltis_knoblochi:0.0002954776553769234,Lampropeltis_pyromelana:7.934758443870134e-05):0.00020962727374904008):0.00020924478541370996):0.00031542732597001494):0.0002506532038133842):0.00018880736614822799):0.000239268953063874):0.00010379152912796926):0.00013636561795731257):0.00014267386503580732):0.00010602226665807981):0.0001222639769576057):0.00013320678256334857):0.00010194942015505504):0.0001966385627180895):0.00012400755970604424):0.00014577628683738427):0.0001793948765069604,(Ptyas_mucosa:0.0002327052323615252,((Coluber_constrictor:5.0591129051981765e-05,(Gyalopion_canum:0.00020669082647665265,Tantilla_coronata:0.000180326404435288):0.00016417347071117754):0.00024842025789677106,Drymobius_margaritiferus:8.721133668046602e-05):0.00030253716466275215):0.0004689982008216632):0.00023021436691829952):0.00024476698087054835):0.00024984283783707685):0.00017745965006261678):0.00016255467184536117):0.00019213678043572042));\"\n",
    "\n",
    "\n",
    "#number of repetitions desired\n",
    "Num_rep = 1\n",
    "col_names = ['a1', 'Ea1', 'Va1',\n",
    "            'dev',\"pval\",\"approxpval\"]\n",
    "cross_data = pd.DataFrame(0, index= range(0,Num_rep), columns = col_names)\n",
    "\n",
    "\n",
    "\n",
    "# symMat = pd.read_csv(\"./symmetricMatrix.csv\", index_col=0,header = 0)\n",
    "# symMat2 = symMat.to_numpy()\n",
    "# symMat2\n",
    "\n",
    "\n",
    "robjects.r('''\n",
    "        # create a function `f`\n",
    "        f <- function(df1) {\n",
    "            library(crossmatch)\n",
    "            data <-  data.matrix(df1)\n",
    "            data\n",
    "            z <- c(rep(0,25),rep(1,25)) # creates vector\n",
    "            answer<- crossmatch::crossmatchtest(z,data)\n",
    "        }\n",
    "        # call the function `f` with argument value 3\n",
    "       #f(data)\n",
    "        ''')\n",
    "r_f = robjects.globalenv['f']\n",
    "#print(r_f.r_repr())\n",
    "# res = r_f(b_symm)\n",
    "# print(res)\n",
    "\n",
    "\n",
    "#enerate_sim_tree_files(r_tree2)\n",
    "\n",
    "for h in range(0,Num_rep):\n",
    "    #testing symetric matrix to replace for matrix functions\n",
    "#     N = 50\n",
    "# #     b = np.random.randint(1,150,size=(N,N))\n",
    "#     b = np.random.rand(N, N)\n",
    "#     b_symm = (b + b.T)/2\n",
    "#     for i in range(0,N,1):\n",
    "#         for j in range(0,N,1):\n",
    "#             if(i == j):\n",
    "#                 b_symm[i][j] = 0\n",
    "#     print(b_symm)\n",
    "#     res = r_f(b_symm)\n",
    "# #     print(res)\n",
    "\n",
    "    #PIPELINE CODE\n",
    "    #generate simulated tree files\n",
    "    gen_tree_num_path = generate_tree_path + \"{}\".format(h+1)\n",
    "    if not os.path.exists(gen_tree_num_path):\n",
    "        ef.generate_sim_tree_files(r_tree2,gen_tree_num_path)\n",
    "        \n",
    "    \n",
    "    #generate comparison files\n",
    "    if not os.path.exists(folder_dir+ 'Sim_Trees_distances_comparisons_{}.csv'.format(h+1)):\n",
    "        comparison_df = ef.generate_comparison_files((h+1),gen_tree_num_path)\n",
    "    else:\n",
    "        comparison_df = pd.read_csv(folder_dir+ 'Sim_Trees_distances_comparisons_{}.csv'.format(h+1))\n",
    "    #print(comparison_df)\n",
    "    \n",
    "    #Aliyah Symetric matrix function\n",
    "    symMat_output_path = symMat_output_dir + \"{}.csv\".format((h+1))\n",
    "    if not os.path.exists(symMat_output_path):\n",
    "        ps.panda_plus_symmetry_generate(comparison_df, 50,symMat_output_path)\n",
    "        sym_mat = pd.read_csv(symMat_output_path,index_col=0,header = 0)\n",
    "    else:\n",
    "        sym_mat = pd.read_csv(symMat_output_path,index_col=0,header = 0)\n",
    "    sym_mat2 = sym_mat.to_numpy()\n",
    "    \n",
    "#     print(sym_mat2[34][35])\n",
    "#     print(sym_mat2[35][34])\n",
    "#     print(sym_mat2)\n",
    "\n",
    "\n",
    "    #Crossmatch calculation into dataframe\n",
    "    res = r_f(sym_mat2)\n",
    "#     print(res)\n",
    "    cross_test = dict(zip(res.names, map(list,list(res))))\n",
    "    #print(\"this is run number : \" + str(h+1) + \" !!!!\\n\")\n",
    "    #print(cross_test,\"\\n\")\n",
    "    \n",
    "    cross_data.loc[h,'a1'] = cross_test['a1'][0]\n",
    "    cross_data.loc[h,'Ea1'] = cross_test['Ea1'][0]\n",
    "    cross_data.loc[h,'Va1'] = cross_test['Va1'][0]\n",
    "    cross_data.loc[h,'dev'] = cross_test['dev'][0]\n",
    "    cross_data.loc[h,'pval'] = cross_test['pval'][0]\n",
    "    cross_data.loc[h,'approxpval'] = cross_test['approxpval'][0]\n",
    "    \n",
    "cross_data"
   ]
  },
  {
   "cell_type": "code",
   "execution_count": 7,
   "metadata": {},
   "outputs": [
    {
     "data": {
      "text/html": [
       "<div>\n",
       "<style scoped>\n",
       "    .dataframe tbody tr th:only-of-type {\n",
       "        vertical-align: middle;\n",
       "    }\n",
       "\n",
       "    .dataframe tbody tr th {\n",
       "        vertical-align: top;\n",
       "    }\n",
       "\n",
       "    .dataframe thead th {\n",
       "        text-align: right;\n",
       "    }\n",
       "</style>\n",
       "<table border=\"1\" class=\"dataframe\">\n",
       "  <thead>\n",
       "    <tr style=\"text-align: right;\">\n",
       "      <th></th>\n",
       "      <th>a1</th>\n",
       "      <th>Ea1</th>\n",
       "      <th>Va1</th>\n",
       "      <th>dev</th>\n",
       "      <th>pval</th>\n",
       "      <th>approxpval</th>\n",
       "    </tr>\n",
       "  </thead>\n",
       "  <tbody>\n",
       "    <tr>\n",
       "      <th>0</th>\n",
       "      <td>15</td>\n",
       "      <td>12.755102</td>\n",
       "      <td>6.38032</td>\n",
       "      <td>0.888741</td>\n",
       "      <td>0.905508</td>\n",
       "      <td>0.812929</td>\n",
       "    </tr>\n",
       "  </tbody>\n",
       "</table>\n",
       "</div>"
      ],
      "text/plain": [
       "   a1        Ea1      Va1       dev      pval  approxpval\n",
       "0  15  12.755102  6.38032  0.888741  0.905508    0.812929"
      ]
     },
     "execution_count": 7,
     "metadata": {},
     "output_type": "execute_result"
    }
   ],
   "source": []
  },
  {
   "cell_type": "code",
   "execution_count": 5,
   "metadata": {},
   "outputs": [
    {
     "ename": "TypeError",
     "evalue": "panda_plus_symmetry_generate() missing 1 required positional argument: 'fileName'",
     "output_type": "error",
     "traceback": [
      "\u001b[1;31m---------------------------------------------------------------------------\u001b[0m",
      "\u001b[1;31mTypeError\u001b[0m                                 Traceback (most recent call last)",
      "\u001b[1;32m<ipython-input-5-ad961e7f46c3>\u001b[0m in \u001b[0;36m<module>\u001b[1;34m\u001b[0m\n\u001b[0;32m      1\u001b[0m \u001b[0mcomparison_df\u001b[0m \u001b[1;33m=\u001b[0m \u001b[0mpd\u001b[0m\u001b[1;33m.\u001b[0m\u001b[0mread_csv\u001b[0m\u001b[1;33m(\u001b[0m\u001b[1;34m\"./Sim_Trees_distances_comparisons_1.csv\"\u001b[0m\u001b[1;33m)\u001b[0m\u001b[1;33m\u001b[0m\u001b[1;33m\u001b[0m\u001b[0m\n\u001b[0;32m      2\u001b[0m \u001b[1;31m#print(comparison_df)\u001b[0m\u001b[1;33m\u001b[0m\u001b[1;33m\u001b[0m\u001b[1;33m\u001b[0m\u001b[0m\n\u001b[1;32m----> 3\u001b[1;33m \u001b[0msym_mat\u001b[0m \u001b[1;33m=\u001b[0m \u001b[0mps\u001b[0m\u001b[1;33m.\u001b[0m\u001b[0mpanda_plus_symmetry_generate\u001b[0m\u001b[1;33m(\u001b[0m\u001b[0mcomparison_df\u001b[0m\u001b[1;33m,\u001b[0m \u001b[1;36m50\u001b[0m\u001b[1;33m)\u001b[0m\u001b[1;33m\u001b[0m\u001b[1;33m\u001b[0m\u001b[0m\n\u001b[0m\u001b[0;32m      4\u001b[0m \u001b[0msym_mat\u001b[0m\u001b[1;33m\u001b[0m\u001b[1;33m\u001b[0m\u001b[0m\n",
      "\u001b[1;31mTypeError\u001b[0m: panda_plus_symmetry_generate() missing 1 required positional argument: 'fileName'"
     ]
    }
   ],
   "source": [
    "comparison_df = pd.read_csv(\"./Sim_Trees_distances_comparisons_1.csv\")\n",
    "#print(comparison_df)\n",
    "sym_mat = ps.panda_plus_symmetry_generate(comparison_df, 50)\n",
    "sym_mat"
   ]
  },
  {
   "cell_type": "code",
   "execution_count": null,
   "metadata": {},
   "outputs": [],
   "source": []
  }
 ],
 "metadata": {
  "kernelspec": {
   "display_name": "Python 3",
   "language": "python",
   "name": "python3"
  },
  "language_info": {
   "codemirror_mode": {
    "name": "ipython",
    "version": 3
   },
   "file_extension": ".py",
   "mimetype": "text/x-python",
   "name": "python",
   "nbconvert_exporter": "python",
   "pygments_lexer": "ipython3",
   "version": "3.7.6"
  }
 },
 "nbformat": 4,
 "nbformat_minor": 4
}
