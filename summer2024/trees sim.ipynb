{
 "cells": [
  {
   "cell_type": "code",
   "execution_count": 1,
   "id": "402f2017-95cc-4c2b-abcf-763fe4e2f5f7",
   "metadata": {
    "tags": []
   },
   "outputs": [
    {
     "name": "stdout",
     "output_type": "stream",
     "text": [
      "Species tree is [&R] (((A:10000,B:10000):10000,C:20000):10000,D:30000);\n",
      "Finished simulating gene trees in /Users/kojoa/Downloads/tree-hypothesis-testing-main/tree-hypothesis-testing-main/TreeData/simdata2/gts_dendropy_CAT_tauAB-10000_tauABC-20000_tauRoot-30000_pAB-10000_pABC-10000_pRoot-15000\n"
     ]
    }
   ],
   "source": [
    "import trees_to_edge_lengths as tel\n",
    "x = tel.main()"
   ]
  },
  {
   "cell_type": "code",
   "execution_count": null,
   "id": "785dacd1-1cd2-41e3-94d4-e190676d88a5",
   "metadata": {},
   "outputs": [],
   "source": []
  },
  {
   "cell_type": "code",
   "execution_count": null,
   "id": "f3348253-87ca-4686-8527-c9a8a9ad18eb",
   "metadata": {},
   "outputs": [],
   "source": []
  }
 ],
 "metadata": {
  "kernelspec": {
   "display_name": "Python 3 (ipykernel)",
   "language": "python",
   "name": "python3"
  },
  "language_info": {
   "codemirror_mode": {
    "name": "ipython",
    "version": 3
   },
   "file_extension": ".py",
   "mimetype": "text/x-python",
   "name": "python",
   "nbconvert_exporter": "python",
   "pygments_lexer": "ipython3",
   "version": "3.11.5"
  }
 },
 "nbformat": 4,
 "nbformat_minor": 5
}
